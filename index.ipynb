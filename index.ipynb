{
 "cells": [
  {
   "cell_type": "markdown",
   "metadata": {},
   "source": [
    "# Bonn-Cologne Graduate School `Python`-lectures (summer term 2020)"
   ]
  },
  {
   "cell_type": "markdown",
   "metadata": {},
   "source": [
    "## Lecture materials for Monday, 08.04.2020"
   ]
  },
  {
   "cell_type": "markdown",
   "metadata": {},
   "source": [
    "[01 Introduction - Why Python](Wednesday_2020-04-08/01_Introduction_why_python.ipynb)\n",
    "\n",
    "[02 Python Examples](Wednesday_2020-04-08/02_Python_examples.ipynb)\n",
    "\n",
    "[03 Goals of the course](Wednesday_2020-04-08/03_Goals_of_the_course.ipynb)\n"
   ]
  }
 ],
 "metadata": {
  "kernelspec": {
   "display_name": "Python 3",
   "language": "python",
   "name": "python3"
  },
  "language_info": {
   "codemirror_mode": {
    "name": "ipython",
    "version": 3
   },
   "file_extension": ".py",
   "mimetype": "text/x-python",
   "name": "python",
   "nbconvert_exporter": "python",
   "pygments_lexer": "ipython3",
   "version": "3.7.6"
  }
 },
 "nbformat": 4,
 "nbformat_minor": 2
}
