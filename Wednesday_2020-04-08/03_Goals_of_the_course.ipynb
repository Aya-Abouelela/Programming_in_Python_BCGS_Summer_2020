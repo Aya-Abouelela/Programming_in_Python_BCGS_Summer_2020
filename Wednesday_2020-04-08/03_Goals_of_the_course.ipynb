{
 "cells": [
  {
   "cell_type": "markdown",
   "metadata": {},
   "source": [
    "# Goals of the Course"
   ]
  },
  {
   "cell_type": "markdown",
   "metadata": {
    "scrolled": true
   },
   "source": [
    "**We want to use our computers to solve scientific problems!**"
   ]
  },
  {
   "cell_type": "markdown",
   "metadata": {
    "collapsed": true
   },
   "source": [
    "<img src=\"images/NGVS_nomask.jpg\" style=\"width: 500px;\">\n",
    "\n",
    "**Figure:** Optical astronomical image"
   ]
  },
  {
   "cell_type": "markdown",
   "metadata": {},
   "source": [
    "<img src=\"images/NGVS_mask.jpg\" style=\"width: 500px;\">\n",
    "\n",
    "**Figure:** Optical image with *automatically generated* masks"
   ]
  },
  {
   "cell_type": "markdown",
   "metadata": {},
   "source": [
    "## What do you need to learn?\n",
    "- A (general purpose) programming language, its elements (data structures) and syntax. *Most* languages are very similar in their building blocks (see below). *All* general purpose languages can solve the same class of problems.\n",
    "- For concrete problems you need specific algorithms **(simulations, differential equations, numerical mathematics)** \n",
    "- You need **algorithmic thinking** - how can I decompose a given problem to solve it with available elements of my programming language.\n",
    "- You need the ability to test the **correctness** of your program and a very good feeling for potential problems!\n",
    "\n",
    "**A Programming language is a language that you need to actively speak to master it!**"
   ]
  }
 ],
 "metadata": {
  "kernelspec": {
   "display_name": "Python 3",
   "language": "python",
   "name": "python3"
  },
  "language_info": {
   "codemirror_mode": {
    "name": "ipython",
    "version": 3
   },
   "file_extension": ".py",
   "mimetype": "text/x-python",
   "name": "python",
   "nbconvert_exporter": "python",
   "pygments_lexer": "ipython3",
   "version": "3.7.6"
  }
 },
 "nbformat": 4,
 "nbformat_minor": 2
}
