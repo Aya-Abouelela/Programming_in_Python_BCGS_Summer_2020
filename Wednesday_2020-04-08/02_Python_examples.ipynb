{
 "cells": [
  {
   "cell_type": "markdown",
   "metadata": {},
   "source": [
    "# The different faces of Python"
   ]
  },
  {
   "cell_type": "markdown",
   "metadata": {},
   "source": [
    "## Readable Syntax - Quicksort in Python"
   ]
  },
  {
   "cell_type": "markdown",
   "metadata": {},
   "source": [
    "### Quicksort Pseudocode from Wikipedia"
   ]
  },
  {
   "cell_type": "raw",
   "metadata": {},
   "source": [
    "function quicksort(array)\n",
    "    var list less, greater\n",
    "    if \n",
    "    length(array) ≤ 1\n",
    "        return array\n",
    "    select and remove a pivot value pivot from array\n",
    "    for each x in array\n",
    "        if x ≤ pivot then append x to less\n",
    "        else append x to greater\n",
    "    return concatenate(quicksort(less), pivot, quicksort(greater))"
   ]
  },
  {
   "cell_type": "markdown",
   "metadata": {},
   "source": [
    "### Here the Python implementation"
   ]
  },
  {
   "cell_type": "code",
   "execution_count": 1,
   "metadata": {},
   "outputs": [
    {
     "name": "stdout",
     "output_type": "stream",
     "text": [
      "[-863, -982, 912, 480, 211, 366, -311, -394, -168, 459, 313, -183, -856, 184, 160, -199, -561, -979, -765, 297, -65, 255, 64, 687, -651, 931, -149, -256, -294, -614]\n",
      "[-982, -979, -863, -856, -765, -651, -614, -561, -394, -311, -294, -256, -199, -183, -168, -149, -65, 64, 160, 184, 211, 255, 297, 313, 366, 459, 480, 687, 912, 931]\n"
     ]
    }
   ],
   "source": [
    "import random\n",
    "\n",
    "# A python implementation of the Wikipedia quicksort algorithm\n",
    "def my_quicksort(array):\n",
    "    if len(array) <= 1:\n",
    "        return array\n",
    "    \n",
    "    pivot = array[0] # select a pivot (first element of list)\n",
    "    rest = array[1:] # the array with the pivot\n",
    "                     # removed\n",
    "    less = [x for x in rest if x <= pivot]\n",
    "    greater = [x for x in rest if x > pivot]\n",
    "    \n",
    "    return my_quicksort(less) + [pivot] + my_quicksort(greater)\n",
    "\n",
    "testarr = [random.randint(-1000, 1000) for i in range(30)]\n",
    "print(testarr)\n",
    "print(my_quicksort(testarr))"
   ]
  },
  {
   "cell_type": "markdown",
   "metadata": {},
   "source": [
    "# Interactive possibilities - Munich temperatures"
   ]
  },
  {
   "cell_type": "code",
   "execution_count": 2,
   "metadata": {},
   "outputs": [
    {
     "name": "stderr",
     "output_type": "stream",
     "text": [
      "Der Befehl \"cat\" ist entweder falsch geschrieben oder\n",
      "konnte nicht gefunden werden.\n"
     ]
    }
   ],
   "source": [
    "!cat data/munich_temperatures.txt"
   ]
  },
  {
   "cell_type": "code",
   "execution_count": null,
   "metadata": {},
   "outputs": [],
   "source": [
    "# playing around with the data interactively\n",
    "\n",
    "%matplotlib inline\n",
    "import matplotlib.pyplot as plt\n",
    "import numpy as np\n",
    "\n",
    "data = np.loadtxt(\"data/munich_temperatures.txt\")\n",
    "day = data[:,0]\n",
    "temp = data[:,1]\n",
    "\n",
    "plt.plot(day, temp, '.')"
   ]
  },
  {
   "cell_type": "markdown",
   "metadata": {},
   "source": [
    "# Interactive possibilities - load code from disk or WWW"
   ]
  },
  {
   "cell_type": "code",
   "execution_count": null,
   "metadata": {},
   "outputs": [],
   "source": [
    "%load code/temperature.py"
   ]
  },
  {
   "cell_type": "code",
   "execution_count": null,
   "metadata": {},
   "outputs": [],
   "source": [
    "%load https://matplotlib.org/mpl_examples/lines_bars_and_markers/barh_demo.py"
   ]
  },
  {
   "cell_type": "markdown",
   "metadata": {},
   "source": [
    "# Capabilities for symbolic mathematics (sympy-module)"
   ]
  },
  {
   "cell_type": "code",
   "execution_count": null,
   "metadata": {},
   "outputs": [],
   "source": [
    "import sympy as s\n",
    "\n",
    "s.init_printing()\n",
    "x, y, z, t = s.symbols('x y z t')\n",
    "f = s.Function('f')\n",
    "\n",
    "# evaluate integrals\n",
    "s.pprint(s.Integral(x**2 * s.cos(x), x))\n",
    "s.pprint(s.Integral(x**2 * s.cos(x), x).doit())\n",
    "\n",
    "# solve ordinary differential equation\n",
    "# f''(x) + 9 f(x) = 1\n",
    "s.pprint(s.dsolve(s.Eq(s.Derivative(f(x),x,x) + 9*f(x), 1), f(x)))\n",
    "\n",
    "# calculate the inverse of a matrix:\n",
    "A = s.Matrix(2, 2, [x, y, z, t])\n",
    "s.pprint(A)\n",
    "s.pprint(A.inv())\n",
    "\n",
    "# calculate 50 digits if pi:\n",
    "s.pprint(s.pi.evalf(50))\n"
   ]
  },
  {
   "cell_type": "markdown",
   "metadata": {},
   "source": [
    "# Python is not slow - use vector operations"
   ]
  },
  {
   "cell_type": "markdown",
   "metadata": {},
   "source": [
    "**The C/Fortran paradigm to manipulate arrays by visiting each element is wrong in Python nearly always!**"
   ]
  },
  {
   "cell_type": "code",
   "execution_count": null,
   "metadata": {},
   "outputs": [],
   "source": [
    "import numpy as np\n",
    "\n",
    "x = np.linspace(0.0, 2.0 * np.pi, 100)\n",
    "print(x)"
   ]
  },
  {
   "cell_type": "code",
   "execution_count": null,
   "metadata": {},
   "outputs": [],
   "source": [
    "%%timeit\n",
    "import numpy as np\n",
    "\n",
    "# C-like element-wise array manipulation\n",
    "x = np.linspace(0.0, 2.0 * np.pi, 100)\n",
    "y = np.zeros(len(x))\n",
    "\n",
    "for i in range(len(x)):\n",
    "    y[i] = np.sin(x[i])"
   ]
  },
  {
   "cell_type": "markdown",
   "metadata": {},
   "source": [
    "Manipulating arrays by vector operations is typically a factor of 10 faster than the *visit each element* strategy!"
   ]
  },
  {
   "cell_type": "code",
   "execution_count": null,
   "metadata": {},
   "outputs": [],
   "source": [
    "%%timeit\n",
    "import numpy as np\n",
    "\n",
    "# fast vector operations\n",
    "x = np.linspace(0.0, 2.0 * np.pi, 100)\n",
    "y = np.sin(x)"
   ]
  },
  {
   "cell_type": "code",
   "execution_count": null,
   "metadata": {},
   "outputs": [],
   "source": []
  }
 ],
 "metadata": {
  "kernelspec": {
   "display_name": "Python 3",
   "language": "python",
   "name": "python3"
  },
  "language_info": {
   "codemirror_mode": {
    "name": "ipython",
    "version": 3
   },
   "file_extension": ".py",
   "mimetype": "text/x-python",
   "name": "python",
   "nbconvert_exporter": "python",
   "pygments_lexer": "ipython3",
   "version": "3.7.6"
  }
 },
 "nbformat": 4,
 "nbformat_minor": 2
}
