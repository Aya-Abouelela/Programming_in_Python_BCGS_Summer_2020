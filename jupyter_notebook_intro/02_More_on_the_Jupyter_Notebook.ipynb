{
 "cells": [
  {
   "cell_type": "markdown",
   "metadata": {},
   "source": [
    "# Note for physics718"
   ]
  },
  {
   "cell_type": "markdown",
   "metadata": {},
   "source": [
    "This notebook will be most useful after the first few weeks of our course only. It is based on elimentary `Python`-knowledge and additional value offered to a `Python`-developer.\n",
    "\n",
    "I make it available from the very beginning for completeness and for those of you who already have some experience and who want to dive-in more deeply from the very beginning."
   ]
  },
  {
   "cell_type": "markdown",
   "metadata": {},
   "source": [
    "# More on the Jupyter Notebook"
   ]
  },
  {
   "cell_type": "markdown",
   "metadata": {},
   "source": [
    "The Jupyter-notebook offers rich possibilities to support its users working on documents!\n",
    "\n",
    "My most important advice: Get used to keyboard shortcuts to work more efficently with the notebook. See `Help` -> `Keyboard shortcuts`"
   ]
  },
  {
   "cell_type": "markdown",
   "metadata": {},
   "source": [
    "## Running Linux commands within notebooks"
   ]
  },
  {
   "cell_type": "code",
   "execution_count": null,
   "metadata": {},
   "outputs": [],
   "source": [
    "# You can execute arbitrary Linux shell-commands within a Code-cell.\n",
    "# Just prepend Linux-commands with an exclamation point:\n",
    "#\n",
    "# list current directories contents\n",
    "!ls -F\n",
    "# print working dirctory\n",
    "!pwd\n",
    "# change directoty; NOTE: to change the directory for the IPython\n",
    "# session, you need to prepend 'cd' with a percent sign (jupyter magic)\n",
    "%cd data\n",
    "!ls\n",
    "!cat test.txt\n",
    "%cd .."
   ]
  },
  {
   "cell_type": "markdown",
   "metadata": {},
   "source": [
    "## Run and examine script-code (from disk or the WWW)"
   ]
  },
  {
   "cell_type": "code",
   "execution_count": null,
   "metadata": {},
   "outputs": [],
   "source": [
    "# The notebook offers 'magic'-commands\n",
    "# The %run magic allows you to directly execute code from\n",
    "# disk or the WWW:\n",
    "%run code/magic_test.py"
   ]
  },
  {
   "cell_type": "code",
   "execution_count": null,
   "metadata": {},
   "outputs": [],
   "source": [
    "# You can also load code from disk or the WWW\n",
    "# to work with it within the notebook enviroenment\n",
    "%load code/magic_test.py"
   ]
  },
  {
   "cell_type": "code",
   "execution_count": null,
   "metadata": {},
   "outputs": [],
   "source": [
    "# list variables currently defined within this notebook.\n",
    "# Here we see variables that were originally defined in the program\n",
    "# code/magic_test.py\n",
    "%whos"
   ]
  },
  {
   "cell_type": "code",
   "execution_count": null,
   "metadata": {},
   "outputs": [],
   "source": [
    "# here an example to load code from the WWW\n",
    "%load https://matplotlib.org/mpl_examples/lines_bars_and_markers/line_demo_dash_control.py"
   ]
  },
  {
   "cell_type": "markdown",
   "metadata": {},
   "source": [
    "### Help on Python commands and functions"
   ]
  },
  {
   "cell_type": "code",
   "execution_count": null,
   "metadata": {},
   "outputs": [],
   "source": [
    "# You can obtain help on an arbitrary Python-command, function or object by appending a '?' to its name\n",
    "import numpy\n",
    "\n",
    "a = 1\n",
    "s = \"Thomas\""
   ]
  },
  {
   "cell_type": "code",
   "execution_count": null,
   "metadata": {},
   "outputs": [],
   "source": [
    "# obtain help on print command\n",
    "print?"
   ]
  },
  {
   "cell_type": "code",
   "execution_count": null,
   "metadata": {},
   "outputs": [],
   "source": [
    "# equivalent to the previous command\n",
    "help(print)"
   ]
  },
  {
   "cell_type": "code",
   "execution_count": null,
   "metadata": {},
   "outputs": [],
   "source": [
    "# obtain help on the object that 's' points to\n",
    "s?"
   ]
  },
  {
   "cell_type": "code",
   "execution_count": null,
   "metadata": {},
   "outputs": [],
   "source": [
    "# obtain help on the function 'cos' within the numpy-module\n",
    "numpy.cos?"
   ]
  },
  {
   "cell_type": "markdown",
   "metadata": {},
   "source": [
    "### Find available methods and functions within modules and objects"
   ]
  },
  {
   "cell_type": "markdown",
   "metadata": {},
   "source": [
    "You know what the terms `wildcards` (for instance the *\\**) and `tab-completion` mean from your Unix/Linux lectures, do you? They come in very handy also within the notebook-enviroenment (getting help). "
   ]
  },
  {
   "cell_type": "code",
   "execution_count": null,
   "metadata": {},
   "outputs": [],
   "source": [
    "# You can search for function-names\n",
    "import numpy\n",
    "\n",
    "# You want to find out, how the numpy-function for arcus-cosinus is. You know that\n",
    "# the function name certainly has cos in it:\n",
    "#\n",
    "# You know the '*'-wildcard from the Unix-shell, do you?\n",
    "numpy.*cos*?\n",
    "# list all numpy commands ending with sin\n",
    "#numpy.*sin?"
   ]
  },
  {
   "cell_type": "code",
   "execution_count": null,
   "metadata": {},
   "outputs": [],
   "source": [
    "# You can search for 'methods' (functions) that can be applied to objects:\n",
    "s = \"Hello Thomas\"\n",
    "print(s)\n",
    "print(len(s))\n",
    "# use <TAB>-completion to list all methods available for s\n",
    "# s."
   ]
  }
 ],
 "metadata": {
  "kernelspec": {
   "display_name": "Python 3",
   "language": "python",
   "name": "python3"
  },
  "language_info": {
   "codemirror_mode": {
    "name": "ipython",
    "version": 3
   },
   "file_extension": ".py",
   "mimetype": "text/x-python",
   "name": "python",
   "nbconvert_exporter": "python",
   "pygments_lexer": "ipython3",
   "version": "3.7.7"
  }
 },
 "nbformat": 4,
 "nbformat_minor": 2
}
